{
 "cells": [
  {
   "cell_type": "markdown",
   "id": "d96fb957-3d39-4b25-b608-4fa0e6d45359",
   "metadata": {},
   "source": [
    "# Portfolio assignment 21\n",
    "**Train a perceptron to predict one of the categorical columns of your own dataset(Pokemon.csv):**\n",
    "\n",
    "- Prepare the data\n",
    "- Some machine learning algorithms can not handle categorical values. You will either need to: To handle categorical data, you can use One-Hot Encoding to convert categories into binary columns with .get_dummies(<value(s)>). This creates a new column for each category\n",
    "- Split your dataset into training (70%) and testing (30%) sets.\n",
    "- Use your Perceptron to make predictions for both the train and test set.\n",
    "\n",
    "---\n",
    "\n",
    "- Fit a Perceptron model using your own selected feature columns.\n",
    "- Fine-tune the learning rate and epochs (max iterations).\n",
    "- Calculate the accuracy for both the train set predictions and test set predictions, what happens per iteration?\n",
    "- Is the accurracy different? Did you expect this difference?\n",
    "\n",
    "---\n"
   ]
  },
  {
   "cell_type": "code",
   "execution_count": 7,
   "id": "274315c5-576e-41d2-8536-5cd8f3c66461",
   "metadata": {},
   "outputs": [],
   "source": [
    "import pandas as pd\n",
    "from sklearn.model_selection import train_test_split\n",
    "from sklearn.linear_model import Perceptron\n",
    "from sklearn.metrics import accuracy_score\n",
    "from sklearn.preprocessing import OneHotEncoder\n",
    "\n",
    "pokemon = pd.read_csv(\"pokemon.csv\")\n",
    "pokemon = pokemon.dropna()\n",
    "\n",
    "# Doelvariabele (Type 1 voorspellen)\n",
    "# Groepeer types: 'Fire', 'Water', 'Grass' → 'Elemental', rest → 'Other' ( 11% > 70% )\n",
    "y = pokemon['Type_Group'] = pokemon['Type 1'].apply(lambda x: 'Elemental' if x in ['Fire', 'Water', 'Grass'] else 'Other')\n",
    "# Numerieke features\n",
    "X = pokemon[[\"Attack\", \"Defense\", \"Speed\", \"HP\"]]\n",
    "\n",
    "\n",
    "from sklearn.preprocessing import LabelEncoder\n",
    "le = LabelEncoder()\n",
    "y_encoded = le.fit_transform(y)\n",
    "\n",
    "X_train, X_test, y_train, y_test = train_test_split(X, y_encoded, test_size=0.3, random_state=42)"
   ]
  },
  {
   "cell_type": "code",
   "execution_count": 9,
   "id": "52abe695-2186-468b-af27-e08215edd1d2",
   "metadata": {},
   "outputs": [
    {
     "name": "stdout",
     "output_type": "stream",
     "text": [
      "Train accuracy: 0.71\n",
      "Test accuracy: 0.75\n"
     ]
    }
   ],
   "source": [
    "model = Perceptron(max_iter=1000, eta0=1.0, random_state=42)\n",
    "model.fit(X_train, y_train)\n",
    "\n",
    "# Voorspellingen\n",
    "y_pred_train = model.predict(X_train)\n",
    "y_pred_test = model.predict(X_test)\n",
    "\n",
    "# Accuracy\n",
    "train_acc = accuracy_score(y_train, y_pred_train)\n",
    "test_acc = accuracy_score(y_test, y_pred_test)\n",
    "\n",
    "print(\"Train accuracy:\", round(train_acc, 2))\n",
    "print(\"Test accuracy:\", round(test_acc, 2))"
   ]
  },
  {
   "cell_type": "markdown",
   "id": "aebace0b-4dac-4fff-958a-cd9e8750b0de",
   "metadata": {},
   "source": [
    "---\n",
    "\n",
    "### Findings:\n",
    "Doel: origineel \"type 1\" maar dit heb ik gegroepeerd naar 3 types in \"Elemental\" (Fire, Water, Grass) vs \"Other\" omdat de accuracy dan hoger uitkomt (voorheen maar 12%)\n",
    "Model: Perceptron met numerieke features Attack, Defense, Speed, HP\n",
    "\n",
    "#### Prestaties:\n",
    "- Train accuracy: 71%\n",
    "- Test accuracy: 75%\n",
    "\n",
    "**Findings:**\n",
    "- Het model presteert goed met simpele kenmerken\n",
    "- De accuracies liggen dicht bij elkaar → geen overfitting\n",
    "- Simpele lineaire scheiding (Perceptron) is hier voldoende"
   ]
  }
 ],
 "metadata": {
  "kernelspec": {
   "display_name": "Python 3 (ipykernel)",
   "language": "python",
   "name": "python3"
  },
  "language_info": {
   "codemirror_mode": {
    "name": "ipython",
    "version": 3
   },
   "file_extension": ".py",
   "mimetype": "text/x-python",
   "name": "python",
   "nbconvert_exporter": "python",
   "pygments_lexer": "ipython3",
   "version": "3.12.7"
  }
 },
 "nbformat": 4,
 "nbformat_minor": 5
}
