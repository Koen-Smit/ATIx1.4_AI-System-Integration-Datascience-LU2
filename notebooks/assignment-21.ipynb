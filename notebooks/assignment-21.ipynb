{
 "cells": [
  {
   "cell_type": "markdown",
   "id": "d96fb957-3d39-4b25-b608-4fa0e6d45359",
   "metadata": {},
   "source": [
    "# Portfolio assignment 21\n",
    "**Train a perceptron to predict one of the categorical columns of your own dataset(Pokemon.csv):**\n",
    "\n",
    "- \n",
    "\n",
    "\n",
    "\n",
    "\n",
    "Portfolio assignment 21\n",
    "30 min: Train a perceptron to predict one of the categorical columns of your own dataset.\n",
    "\n",
    "Prepare the data:\n",
    "Note: Some machine learning algorithms can not handle missing values. You will either need to:\n",
    "replace missing values (with the mean or most popular value). For replacing missing values you can use .fillna(<value>) https://pandas.pydata.org/docs/reference/api/pandas.Series.fillna.html\n",
    "remove rows with missing data. You can remove rows with missing data with .dropna() https://pandas.pydata.org/pandas-docs/stable/reference/api/pandas.DataFrame.dropna.html\n",
    "Note: Some machine learning algorithms can not handle categorical values. You will either need to:\n",
    "To handle categorical data, you can use One-Hot Encoding to convert categories into binary columns with .get_dummies(<value(s)>). This creates a new column for each category\n",
    "Split your dataset into training (70%) and testing (30%) sets.\n",
    "Use your Perceptron to make predictions for both the train and test set.\n",
    "\n",
    "Image\n",
    "\n",
    "Fit a Perceptron model using your own selected feature columns.\n",
    "Fine-tune the learning rate and epochs (max iterations).\n",
    "Calculate the accuracy for both the train set predictions and test set predictions, what happens per iteration?\n",
    "Is the accurracy different? Did you expect this difference?\n",
    "Optional: Perform the same tasks but change the hidden_layer_sizes\n",
    "\n",
    "Findings: ..."
   ]
  }
 ],
 "metadata": {
  "kernelspec": {
   "display_name": "Python 3 (ipykernel)",
   "language": "python",
   "name": "python3"
  },
  "language_info": {
   "codemirror_mode": {
    "name": "ipython",
    "version": 3
   },
   "file_extension": ".py",
   "mimetype": "text/x-python",
   "name": "python",
   "nbconvert_exporter": "python",
   "pygments_lexer": "ipython3",
   "version": "3.12.7"
  }
 },
 "nbformat": 4,
 "nbformat_minor": 5
}
