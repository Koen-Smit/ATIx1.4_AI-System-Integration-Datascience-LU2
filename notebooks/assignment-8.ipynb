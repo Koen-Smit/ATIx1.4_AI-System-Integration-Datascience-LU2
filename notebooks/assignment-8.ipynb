{
 "cells": [
  {
   "cell_type": "markdown",
   "id": "932b458f-afa6-4e4b-9ff8-a9126af626c1",
   "metadata": {},
   "source": [
    "# Assignment 8\n",
    "**Calculate the 90%, 95%, 99% and 99.99% confidence interval for at least 2 columns with numerical data in the dataset that you chose in portfolio assignment 4(Pokemon.csv):**\n",
    "- Do you see the impact the confidence has on the interval?\n",
    "- Now calculate the 95% confidence interval again but use only the first 10% of your rows.\n",
    "- Compare this interval to the previous 95% confidence interval you calculated. Do you see the impact of having less data?\n",
    "\n",
    "---\n"
   ]
  },
  {
   "cell_type": "code",
   "execution_count": 3,
   "id": "b01eddd3-ba68-4245-b0fe-516073ad1282",
   "metadata": {},
   "outputs": [],
   "source": [
    "# Laad benodigdheden in voor de rest van dit bestand.\n",
    "import pandas as pd\n",
    "import numpy as np\n",
    "from scipy import stats\n",
    "pokemon = pd.read_csv('Pokemon.csv')"
   ]
  },
  {
   "cell_type": "code",
   "execution_count": 9,
   "id": "e4d6d0ed-df65-419d-804e-c27feb5a90e0",
   "metadata": {},
   "outputs": [
    {
     "name": "stdout",
     "output_type": "stream",
     "text": [
      "\n",
      "Attack:\n",
      "90%: (77.11152171030228, 80.89097828969771)\n",
      "95%: (76.74869843886454, 81.25380156113546)\n",
      "99%: (76.03830265303164, 81.96419734696836)\n",
      "99%: (74.51399197553003, 83.48850802446997)\n",
      "\n",
      "Speed:\n",
      "90%: (66.58554509780186, 69.96945490219815)\n",
      "95%: (66.2606938395086, 70.2943061604914)\n",
      "99%: (65.62464598072718, 70.93035401927283)\n",
      "99%: (64.25986516153101, 72.295134838469)\n"
     ]
    }
   ],
   "source": [
    "# Geheel\n",
    "def confidence_interval(data, confidence):\n",
    "    mean = np.mean(data)\n",
    "    sem = stats.sem(data)\n",
    "    margin = sem * stats.t.ppf((1 + confidence) / 2, len(data) - 1)\n",
    "    return (mean - margin, mean + margin)\n",
    "\n",
    "columns = ['Attack', 'Speed']\n",
    "conf_levels = [0.90, 0.95, 0.99, 0.9999]\n",
    "\n",
    "for col in columns:\n",
    "    print(f\"\\n{col}:\")\n",
    "    for level in conf_levels:\n",
    "        ci = confidence_interval(pokemon[col], level)\n",
    "        print(f\"{int(level*100)}%: {ci}\")"
   ]
  },
  {
   "cell_type": "markdown",
   "id": "f0d8337a-001f-4b0c-831e-d5f494d21c2f",
   "metadata": {},
   "source": [
    "#### Findings:\n",
    "Ik heb de \"betrouwbaarheidsintervallen\" berekend voor de volledige dataset met de kolommen \"Attack\" en \"Speed\" en vier verschillende betrouwbaarheden: 90%, 95%, 99% en 99.99%.\n",
    "\n",
    "Naarmate de betrouwbaarheid hoger wordt, wordt het interval breder. Dat komt omdat je bij een hogere zekerheid ook rekening moet houden met een grotere marge.\n",
    "\n",
    "Dus: hoe meer zekerheid je wilt, hoe groter het bereik van het interval."
   ]
  },
  {
   "cell_type": "code",
   "execution_count": 10,
   "id": "e3691fe0-ad1a-4860-8301-4666991a9c76",
   "metadata": {},
   "outputs": [
    {
     "name": "stdout",
     "output_type": "stream",
     "text": [
      "\n",
      "Attack – 95% CI met eerste 10% van de data: (64.66621623274472, 75.93378376725528)\n",
      "\n",
      "Speed – 95% CI met eerste 10% van de data: (65.87352405017344, 78.20147594982654)\n"
     ]
    }
   ],
   "source": [
    "# 10%\n",
    "subset = pokemon.head(int(len(pokemon) * 0.10))\n",
    "\n",
    "for col in columns:\n",
    "    ci_subset = confidence_interval(subset[col], 0.95)\n",
    "    print(f\"\\n{col} – 95% CI met eerste 10% van de data: {ci_subset}\")\n"
   ]
  },
  {
   "cell_type": "markdown",
   "id": "846305bb-6647-4d06-91c3-7b830110d372",
   "metadata": {},
   "source": [
    "#### Findings:\n",
    "95% interval opnieuw berekend, maar alleen met de eerste 10% van de rijen in de dataset.\n",
    "- Je ziet dat dit interval minder precies is.\n",
    "- Dit laat zien dat minder data zorgt voor minder betrouwbare schattingen, omdat de standaardfout groter is bij een kleinere steekproef."
   ]
  }
 ],
 "metadata": {
  "kernelspec": {
   "display_name": "Python 3 (ipykernel)",
   "language": "python",
   "name": "python3"
  },
  "language_info": {
   "codemirror_mode": {
    "name": "ipython",
    "version": 3
   },
   "file_extension": ".py",
   "mimetype": "text/x-python",
   "name": "python",
   "nbconvert_exporter": "python",
   "pygments_lexer": "ipython3",
   "version": "3.12.7"
  }
 },
 "nbformat": 4,
 "nbformat_minor": 5
}
