{
 "cells": [
  {
   "cell_type": "code",
   "execution_count": null,
   "id": "ffc45cb3-2744-4611-9f16-f34ad695f16d",
   "metadata": {},
   "outputs": [],
   "source": []
  }
 ],
 "metadata": {
  "kernelspec": {
   "display_name": "",
   "name": ""
  },
  "language_info": {
   "name": ""
  }
 },
 "nbformat": 4,
 "nbformat_minor": 5
}
