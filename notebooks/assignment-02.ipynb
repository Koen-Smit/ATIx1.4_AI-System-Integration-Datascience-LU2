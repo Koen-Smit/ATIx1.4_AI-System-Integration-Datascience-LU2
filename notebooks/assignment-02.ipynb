{
 "cells": [
  {
   "cell_type": "markdown",
   "id": "4b0049ec-1dc8-46d8-a824-2b1ef64aa126",
   "metadata": {},
   "source": [
    "# Assignment 2\n",
    "- **What are the most popular data science tools?**\n",
    "- **What are the characteristics that make\n",
    "these tools popular for data science tasks?**\n",
    "\n",
    "---"
   ]
  },
  {
   "attachments": {},
   "cell_type": "markdown",
   "id": "a4ee45b4-f2d1-4ab4-a3e6-4c77df10c5bb",
   "metadata": {},
   "source": [
    "\n",
    "- Python: \n",
    "*Een populaire programmeertaal voor data-analyse, machine learning en automatisering. Makkelijk te leren en super flexibel.*\n",
    "- Jupyter notebook: \n",
    "*Een interactieve tool waarin je code, tekst en grafieken samen in één document kunt zetten. Ideaal voor data-analyse en presentaties.*\n",
    "- SQL: \n",
    "*Taal om data op te vragen uit databases. Om grote hoeveelheden gegevens snel en efficiënt te vinden en bewerken.*"
   ]
  },
  {
   "cell_type": "markdown",
   "id": "c4ad39ca-05b3-43e4-a0d7-768e6b64cb7d",
   "metadata": {},
   "source": [
    "Onder andere: Gebruiksvriendelijkheid, open source, flecibiliteit, gratis, efficient."
   ]
  }
 ],
 "metadata": {
  "kernelspec": {
   "display_name": "Python 3 (ipykernel)",
   "language": "python",
   "name": "python3"
  },
  "language_info": {
   "codemirror_mode": {
    "name": "ipython",
    "version": 3
   },
   "file_extension": ".py",
   "mimetype": "text/x-python",
   "name": "python",
   "nbconvert_exporter": "python",
   "pygments_lexer": "ipython3",
   "version": "3.12.7"
  }
 },
 "nbformat": 4,
 "nbformat_minor": 5
}
