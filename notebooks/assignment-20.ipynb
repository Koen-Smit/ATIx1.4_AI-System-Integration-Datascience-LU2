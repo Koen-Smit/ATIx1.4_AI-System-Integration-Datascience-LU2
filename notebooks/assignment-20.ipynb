{
 "cells": [
  {
   "cell_type": "markdown",
   "id": "59d9df4b-bba6-4c9c-b33a-d1f3248b99b4",
   "metadata": {},
   "source": [
    "# Portfolio assignment 20\n",
    "**Train a perceptron to predict the number of the MNIST dataset.:**\n",
    "\n",
    "- Fit a Perceptron model (keep hidden_layer_sizes=1) using the images in de fetch openml dataset.\n",
    "- Change the learning_rate and max_iter to find the 'right fit'.\n",
    "- Use your perceptron to make predictions for both the train and test set."
   ]
  },
  {
   "cell_type": "code",
   "execution_count": 8,
   "id": "c30dbf0e-542a-4ad5-93ed-1cb42c2ab088",
   "metadata": {},
   "outputs": [
    {
     "name": "stdout",
     "output_type": "stream",
     "text": [
      "(70000, 784)\n",
      "(70000,)\n"
     ]
    }
   ],
   "source": [
    "from sklearn.datasets import fetch_openml\n",
    "from sklearn.linear_model import Perceptron\n",
    "from sklearn.model_selection import train_test_split\n",
    "from sklearn.metrics import accuracy_score\n",
    "import matplotlib.pyplot as plt\n",
    "import seaborn as sns\n",
    "import warnings\n",
    "from sklearn.exceptions import ConvergenceWarning\n",
    "\n",
    "# Ignore the ConvergenceWarning\n",
    "warnings.filterwarnings(\"ignore\", category=ConvergenceWarning)\n",
    "\n",
    "\n",
    "# Load the MNIST dataset\n",
    "mnist = fetch_openml('mnist_784', as_frame=False)\n",
    "X = mnist.data\n",
    "y = mnist.target.astype(int)\n",
    "print(X.shape)  # (70000, 784)\n",
    "print(y.shape)  # (70000,)"
   ]
  },
  {
   "cell_type": "markdown",
   "id": "90021855-2740-4529-b9be-08af65e3e247",
   "metadata": {},
   "source": [
    "- Fine-tune the learning rate and epochs (max iterations).\n",
    "- Calculate the accuracy for both the train set predictions and test set predictions, what happens per iteration?\n",
    "- Is the accurracy different? Did you expect this difference?\n",
    "\n",
    "---"
   ]
  },
  {
   "cell_type": "code",
   "execution_count": 5,
   "id": "02ddc874-6fdd-4cff-8969-a1b8114995cd",
   "metadata": {},
   "outputs": [],
   "source": [
    "X_train, X_test, y_train, y_test = train_test_split(X, y, test_size=0.14, random_state=42)"
   ]
  },
  {
   "cell_type": "code",
   "execution_count": 6,
   "id": "955a30b9-ed05-40f6-8aba-2c2961b1e882",
   "metadata": {},
   "outputs": [
    {
     "name": "stdout",
     "output_type": "stream",
     "text": [
      "Train accuracy: 0.89\n",
      "Test accuracy: 0.89\n"
     ]
    }
   ],
   "source": [
    "# Initieel model\n",
    "perceptron = Perceptron(max_iter=50, eta0=1.0, random_state=42)\n",
    "perceptron.fit(X_train, y_train)\n",
    "\n",
    "# Voorspellingen\n",
    "y_pred_train = perceptron.predict(X_train)\n",
    "y_pred_test = perceptron.predict(X_test)\n",
    "\n",
    "# Accuratesse berekenen\n",
    "acc_train = accuracy_score(y_train, y_pred_train)\n",
    "acc_test = accuracy_score(y_test, y_pred_test)\n",
    "\n",
    "print(f\"Train accuracy: {acc_train:.2f}\")\n",
    "print(f\"Test accuracy: {acc_test:.2f}\")"
   ]
  },
  {
   "cell_type": "code",
   "execution_count": 10,
   "id": "9ef83a3c-a2ef-4a6e-b6ea-230b6b903ab2",
   "metadata": {},
   "outputs": [
    {
     "name": "stdout",
     "output_type": "stream",
     "text": [
      "Train accuracy: 0.90\n",
      "Test accuracy: 0.89\n"
     ]
    }
   ],
   "source": [
    "perceptron = Perceptron(max_iter=20, eta0=1.0, random_state=42)\n",
    "perceptron.fit(X_train, y_train)\n",
    "\n",
    "y_pred_train = perceptron.predict(X_train)\n",
    "y_pred_test = perceptron.predict(X_test)\n",
    "\n",
    "acc_train = accuracy_score(y_train, y_pred_train)\n",
    "acc_test = accuracy_score(y_test, y_pred_test)\n",
    "\n",
    "print(f\"Train accuracy: {acc_train:.2f}\")\n",
    "print(f\"Test accuracy: {acc_test:.2f}\")"
   ]
  },
  {
   "cell_type": "code",
   "execution_count": 11,
   "id": "4aaae68c-14cb-4f91-b822-dbde6403d4f3",
   "metadata": {},
   "outputs": [
    {
     "name": "stdout",
     "output_type": "stream",
     "text": [
      "Train accuracy: 0.89\n",
      "Test accuracy: 0.89\n"
     ]
    }
   ],
   "source": [
    "perceptron = Perceptron(max_iter=100, eta0=0.5, random_state=42)\n",
    "perceptron.fit(X_train, y_train)\n",
    "\n",
    "y_pred_train = perceptron.predict(X_train)\n",
    "y_pred_test = perceptron.predict(X_test)\n",
    "\n",
    "acc_train = accuracy_score(y_train, y_pred_train)\n",
    "acc_test = accuracy_score(y_test, y_pred_test)\n",
    "\n",
    "print(f\"Train accuracy: {acc_train:.2f}\")\n",
    "print(f\"Test accuracy: {acc_test:.2f}\")"
   ]
  },
  {
   "cell_type": "code",
   "execution_count": 12,
   "id": "3238cf82-7bb3-4c78-86b3-6cb9541a1d8f",
   "metadata": {},
   "outputs": [
    {
     "name": "stdout",
     "output_type": "stream",
     "text": [
      "Train accuracy: 0.89\n",
      "Test accuracy: 0.89\n"
     ]
    }
   ],
   "source": [
    "perceptron = Perceptron(max_iter=150, eta0=0.3, random_state=42)\n",
    "perceptron.fit(X_train, y_train)\n",
    "\n",
    "y_pred_train = perceptron.predict(X_train)\n",
    "y_pred_test = perceptron.predict(X_test)\n",
    "\n",
    "acc_train = accuracy_score(y_train, y_pred_train)\n",
    "acc_test = accuracy_score(y_test, y_pred_test)\n",
    "\n",
    "print(f\"Train accuracy: {acc_train:.2f}\")\n",
    "print(f\"Test accuracy: {acc_test:.2f}\")"
   ]
  },
  {
   "cell_type": "markdown",
   "id": "36ff3936-8bde-406c-b789-a6bab581fa8c",
   "metadata": {},
   "source": [
    "### Findings:\n",
    "**Is de accuracy verschillend? Verwacht?**\n",
    "- niet echt, train accuracy is heel soms iets hoger dan test accuracy, Het verschil in accuracy tussen train en test is klein, dus geen overfitting.\n",
    "- Andere combinaties van max_iter en eta0 gaven dus vergelijkbare resultaten (rond 89%)\n",
    "- Dit is normaal: het model leert specifieke patronen uit de trainingsset die niet altijd exact in de testset terugkomen.\n",
    "- Te veel epochs kan overfitting veroorzaken (te hoge train accuracy(>90%), lagere test accuracy(<70%)).\n",
    "\n",
    "**Begrijp je wat de Perceptron doet?**\n",
    "- De Perceptron leert lineaire scheidingsvlakken in 784-dimensionale ruimte (1 per cijfer).\n",
    "- Geen hidden layer betekent alleen lineaire beslissingen, geen complexere patronen (zoals in deep learning).\n",
    "- MNIST is deels lineair scheidbaar, dus met genoeg iteraties en juiste learning rate lukt het goed."
   ]
  }
 ],
 "metadata": {
  "kernelspec": {
   "display_name": "Python 3 (ipykernel)",
   "language": "python",
   "name": "python3"
  },
  "language_info": {
   "codemirror_mode": {
    "name": "ipython",
    "version": 3
   },
   "file_extension": ".py",
   "mimetype": "text/x-python",
   "name": "python",
   "nbconvert_exporter": "python",
   "pygments_lexer": "ipython3",
   "version": "3.12.7"
  }
 },
 "nbformat": 4,
 "nbformat_minor": 5
}
