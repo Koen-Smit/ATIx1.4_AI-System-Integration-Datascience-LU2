{
 "cells": [
  {
   "cell_type": "markdown",
   "id": "ede7715a-9727-449e-ac55-43bf823b8d77",
   "metadata": {},
   "source": [
    "# Portfolio assignment 22\n",
    "**Let Yolov8 do predictions on your own choosen dataset(https://www.kaggle.com/datasets/lantian773030/pokemonclassification?select=PokemonData) (look for a nice images dataset on Roboflow or Kaggle or....):**\n",
    "\n",
    "- Load your data in and have a quick look\n",
    "- Let YOLO predict from one of your images the objects\n",
    "- Describe if the predictions are correct according to you, just by looking at the images.\n",
    "\n",
    "\n",
    "**Extra info**\n",
    "*When you dowloaded a dataset from the internet often there is a yaml file. YAML (Yet Another Markup Language) is a human-readable format used for configuration files. It is simple, supports key-value pairs, and is widely used in machine learning setups.*\n",
    "\n",
    "*YOLO uses YAML to define:*\n",
    "\n",
    "- *Dataset paths (train/val images)*\n",
    "- *Number of classes (nc)*\n",
    "- *Class names (names)*\n",
    "- *It is preferred because it is lightweight, easy to edit, and Python-friendly.*"
   ]
  },
  {
   "cell_type": "code",
   "execution_count": 5,
   "id": "8ea75040-97e5-45c2-a649-dc0ac0aadd64",
   "metadata": {},
   "outputs": [
    {
     "name": "stdout",
     "output_type": "stream",
     "text": [
      "\n",
      "image 1/35 C:\\Users\\Dhr Smit\\Documents\\Programming\\Projects\\project folder\\ATIx1.4_AI-System-Integration-Datascience-LU2\\notebooks\\PokemonData\\aerodactyl\\029d0c659dc448f49993648b024e615c.jpg: 640x640 1 horse, 1 elephant, 79.1ms\n",
      "image 2/35 C:\\Users\\Dhr Smit\\Documents\\Programming\\Projects\\project folder\\ATIx1.4_AI-System-Integration-Datascience-LU2\\notebooks\\PokemonData\\aerodactyl\\0598db9a1de245db9719661466001511.jpg: 640x640 2 umbrellas, 62.2ms\n",
      "image 3/35 C:\\Users\\Dhr Smit\\Documents\\Programming\\Projects\\project folder\\ATIx1.4_AI-System-Integration-Datascience-LU2\\notebooks\\PokemonData\\aerodactyl\\0813a450419f4733bfa5f782810219a8.jpg: 640x640 (no detections), 81.8ms\n",
      "image 4/35 C:\\Users\\Dhr Smit\\Documents\\Programming\\Projects\\project folder\\ATIx1.4_AI-System-Integration-Datascience-LU2\\notebooks\\PokemonData\\aerodactyl\\0a15b831d1b947fda035aaf637c58215.jpg: 640x640 1 motorcycle, 72.6ms\n",
      "image 5/35 C:\\Users\\Dhr Smit\\Documents\\Programming\\Projects\\project folder\\ATIx1.4_AI-System-Integration-Datascience-LU2\\notebooks\\PokemonData\\aerodactyl\\0eab1e1f744340fa87268f2b558c7ccf.jpg: 640x640 1 kite, 58.9ms\n",
      "image 6/35 C:\\Users\\Dhr Smit\\Documents\\Programming\\Projects\\project folder\\ATIx1.4_AI-System-Integration-Datascience-LU2\\notebooks\\PokemonData\\aerodactyl\\0f5ec128d07341989cb8786fec08c885.jpg: 640x640 (no detections), 58.4ms\n",
      "image 7/35 C:\\Users\\Dhr Smit\\Documents\\Programming\\Projects\\project folder\\ATIx1.4_AI-System-Integration-Datascience-LU2\\notebooks\\PokemonData\\aerodactyl\\1727be397509465f9d3dafbf3849a8f1.jpg: 640x640 1 kite, 57.3ms\n",
      "image 8/35 C:\\Users\\Dhr Smit\\Documents\\Programming\\Projects\\project folder\\ATIx1.4_AI-System-Integration-Datascience-LU2\\notebooks\\PokemonData\\aerodactyl\\25adea61e7624a84a8fbe88d7dcbeb6e.jpg: 640x640 (no detections), 65.0ms\n",
      "image 9/35 C:\\Users\\Dhr Smit\\Documents\\Programming\\Projects\\project folder\\ATIx1.4_AI-System-Integration-Datascience-LU2\\notebooks\\PokemonData\\aerodactyl\\25d15a304c354f3e8064249cf704370d.jpg: 640x640 1 kite, 60.4ms\n",
      "image 10/35 C:\\Users\\Dhr Smit\\Documents\\Programming\\Projects\\project folder\\ATIx1.4_AI-System-Integration-Datascience-LU2\\notebooks\\PokemonData\\aerodactyl\\263b3cb088e5448e99335fbda8f73ee7.jpg: 640x640 (no detections), 60.8ms\n",
      "image 11/35 C:\\Users\\Dhr Smit\\Documents\\Programming\\Projects\\project folder\\ATIx1.4_AI-System-Integration-Datascience-LU2\\notebooks\\PokemonData\\aerodactyl\\35933037ff854c2784e5199f6dc8a728.jpg: 640x640 (no detections), 65.5ms\n",
      "image 12/35 C:\\Users\\Dhr Smit\\Documents\\Programming\\Projects\\project folder\\ATIx1.4_AI-System-Integration-Datascience-LU2\\notebooks\\PokemonData\\aerodactyl\\3a3db872afba41279604c7cda5eeeed7.jpg: 640x640 (no detections), 61.9ms\n",
      "image 13/35 C:\\Users\\Dhr Smit\\Documents\\Programming\\Projects\\project folder\\ATIx1.4_AI-System-Integration-Datascience-LU2\\notebooks\\PokemonData\\aerodactyl\\41e07cd07e9a4d25b9ad5a9ca08f3b5e.jpg: 640x640 1 person, 59.8ms\n",
      "image 14/35 C:\\Users\\Dhr Smit\\Documents\\Programming\\Projects\\project folder\\ATIx1.4_AI-System-Integration-Datascience-LU2\\notebooks\\PokemonData\\aerodactyl\\4c7989f0dc414bb189a4990659dc0e3f.jpg: 640x640 (no detections), 65.9ms\n",
      "image 15/35 C:\\Users\\Dhr Smit\\Documents\\Programming\\Projects\\project folder\\ATIx1.4_AI-System-Integration-Datascience-LU2\\notebooks\\PokemonData\\aerodactyl\\523b396d18584c35a45823b6a145eff6.jpg: 640x640 (no detections), 67.9ms\n",
      "image 16/35 C:\\Users\\Dhr Smit\\Documents\\Programming\\Projects\\project folder\\ATIx1.4_AI-System-Integration-Datascience-LU2\\notebooks\\PokemonData\\aerodactyl\\79f94a276b9a4e06b4884c3b77ef4622.jpg: 640x640 1 person, 77.5ms\n",
      "image 17/35 C:\\Users\\Dhr Smit\\Documents\\Programming\\Projects\\project folder\\ATIx1.4_AI-System-Integration-Datascience-LU2\\notebooks\\PokemonData\\aerodactyl\\7fb69a33c0ca4c458812233bb4084b01.jpg: 640x640 (no detections), 80.4ms\n",
      "image 18/35 C:\\Users\\Dhr Smit\\Documents\\Programming\\Projects\\project folder\\ATIx1.4_AI-System-Integration-Datascience-LU2\\notebooks\\PokemonData\\aerodactyl\\8c1a69bc6f3746bdabacd8d658041dcb.jpg: 640x640 (no detections), 71.1ms\n",
      "image 19/35 C:\\Users\\Dhr Smit\\Documents\\Programming\\Projects\\project folder\\ATIx1.4_AI-System-Integration-Datascience-LU2\\notebooks\\PokemonData\\aerodactyl\\8e1000fe38a640c2b74abc74e93eb049.jpg: 640x640 1 umbrella, 67.8ms\n",
      "image 20/35 C:\\Users\\Dhr Smit\\Documents\\Programming\\Projects\\project folder\\ATIx1.4_AI-System-Integration-Datascience-LU2\\notebooks\\PokemonData\\aerodactyl\\9130363164c248e39ef9b2f51efef1df.jpg: 640x640 (no detections), 73.3ms\n",
      "image 21/35 C:\\Users\\Dhr Smit\\Documents\\Programming\\Projects\\project folder\\ATIx1.4_AI-System-Integration-Datascience-LU2\\notebooks\\PokemonData\\aerodactyl\\91a6d66ed71e45c4a7a5a7917ab44666.jpg: 640x608 (no detections), 93.5ms\n",
      "image 22/35 C:\\Users\\Dhr Smit\\Documents\\Programming\\Projects\\project folder\\ATIx1.4_AI-System-Integration-Datascience-LU2\\notebooks\\PokemonData\\aerodactyl\\9509421af9a04d038cfca99ad0f2b885.jpg: 640x640 (no detections), 92.7ms\n",
      "image 23/35 C:\\Users\\Dhr Smit\\Documents\\Programming\\Projects\\project folder\\ATIx1.4_AI-System-Integration-Datascience-LU2\\notebooks\\PokemonData\\aerodactyl\\97ecd443cbf64b31838c723d80b0f1be.jpg: 640x608 1 person, 92.3ms\n",
      "image 24/35 C:\\Users\\Dhr Smit\\Documents\\Programming\\Projects\\project folder\\ATIx1.4_AI-System-Integration-Datascience-LU2\\notebooks\\PokemonData\\aerodactyl\\a1eb1fcdf2ea490aa3dc6b49a8c88fd5.jpg: 640x640 (no detections), 79.3ms\n",
      "image 25/35 C:\\Users\\Dhr Smit\\Documents\\Programming\\Projects\\project folder\\ATIx1.4_AI-System-Integration-Datascience-LU2\\notebooks\\PokemonData\\aerodactyl\\affe04e2007d4f53a42849bd96cd0520.jpg: 640x640 1 cat, 1 apple, 97.8ms\n",
      "image 26/35 C:\\Users\\Dhr Smit\\Documents\\Programming\\Projects\\project folder\\ATIx1.4_AI-System-Integration-Datascience-LU2\\notebooks\\PokemonData\\aerodactyl\\bb6be0f790654421a4456b1b9242e0a1.jpg: 640x640 1 person, 1 tv, 81.4ms\n",
      "image 27/35 C:\\Users\\Dhr Smit\\Documents\\Programming\\Projects\\project folder\\ATIx1.4_AI-System-Integration-Datascience-LU2\\notebooks\\PokemonData\\aerodactyl\\bf5489f37c6f4dd688e59254d3bddcab.jpg: 640x640 (no detections), 87.6ms\n",
      "image 28/35 C:\\Users\\Dhr Smit\\Documents\\Programming\\Projects\\project folder\\ATIx1.4_AI-System-Integration-Datascience-LU2\\notebooks\\PokemonData\\aerodactyl\\d1d381e5f2df42a0973e0251751e1a14.jpg: 640x640 1 person, 91.3ms\n",
      "image 29/35 C:\\Users\\Dhr Smit\\Documents\\Programming\\Projects\\project folder\\ATIx1.4_AI-System-Integration-Datascience-LU2\\notebooks\\PokemonData\\aerodactyl\\d995b3fc3cbe47e4811493dd8f1c4ada.jpg: 640x640 1 person, 74.7ms\n",
      "image 30/35 C:\\Users\\Dhr Smit\\Documents\\Programming\\Projects\\project folder\\ATIx1.4_AI-System-Integration-Datascience-LU2\\notebooks\\PokemonData\\aerodactyl\\dbbd1c859b8d48878421e058f2d7e26c.jpg: 640x640 (no detections), 63.8ms\n",
      "image 31/35 C:\\Users\\Dhr Smit\\Documents\\Programming\\Projects\\project folder\\ATIx1.4_AI-System-Integration-Datascience-LU2\\notebooks\\PokemonData\\aerodactyl\\e8d4cf4ee37a471bb92ee42e298eb692.jpg: 640x640 1 umbrella, 1 kite, 65.0ms\n",
      "image 32/35 C:\\Users\\Dhr Smit\\Documents\\Programming\\Projects\\project folder\\ATIx1.4_AI-System-Integration-Datascience-LU2\\notebooks\\PokemonData\\aerodactyl\\eea9ce8c690a4c1380e2d8fc6be729a5.jpg: 640x640 (no detections), 60.9ms\n",
      "image 33/35 C:\\Users\\Dhr Smit\\Documents\\Programming\\Projects\\project folder\\ATIx1.4_AI-System-Integration-Datascience-LU2\\notebooks\\PokemonData\\aerodactyl\\f403dcd3136643e4b43c7d01e14494bc.jpg: 640x640 1 person, 165.3ms\n",
      "image 34/35 C:\\Users\\Dhr Smit\\Documents\\Programming\\Projects\\project folder\\ATIx1.4_AI-System-Integration-Datascience-LU2\\notebooks\\PokemonData\\aerodactyl\\f6de83f1ed034679bf49b84e0af203ce.jpg: 640x640 (no detections), 82.1ms\n",
      "image 35/35 C:\\Users\\Dhr Smit\\Documents\\Programming\\Projects\\project folder\\ATIx1.4_AI-System-Integration-Datascience-LU2\\notebooks\\PokemonData\\aerodactyl\\f9b2de8410924cb49e75c0178b15103f.jpg: 640x640 (no detections), 91.4ms\n",
      "Speed: 5.4ms preprocess, 76.2ms inference, 0.9ms postprocess per image at shape (1, 3, 640, 640)\n",
      "Results saved to \u001b[1mruns\\detect\\predict3\u001b[0m\n"
     ]
    }
   ],
   "source": [
    "from ultralytics import YOLO\n",
    "from PIL import Image\n",
    "\n",
    "model = YOLO('yolov8n.pt')\n",
    "\n",
    "results = model.predict(source='PokemonData/aerodactyl', save=True, conf=0.25)\n",
    "\n",
    "results[0].show()"
   ]
  },
  {
   "cell_type": "markdown",
   "id": "726420d3-aa86-4b48-9a94-1b3336b93de0",
   "metadata": {},
   "source": [
    "# Assumptions:\n",
    "\n",
    "- ik verwacht niet dat pokemon herkent gaan worden maar om in het thema van mijn vorige data set te blijven heb ik wel voor een pokemon-image set gekozen.\n",
    "- ik verwacht dat veel pokemon-elementen gezien gaan worden als andere objecten.\n",
    "\n",
    "---\n",
    "\n",
    "# Findings:\n",
    "YOLO detecteerde een motercycle terwijl de image eigenlijk een pokemon/draak aangaf.\n",
    "\n",
    "![image](0a15b831d1b947fda035aaf637c58215.jpg)\n",
    "\n",
    "\n",
    "![image](0a15b831d1b947fda035aaf637c582152.jpg)"
   ]
  },
  {
   "cell_type": "code",
   "execution_count": null,
   "id": "be5a0808-6beb-44ec-b128-58354fff8ed2",
   "metadata": {},
   "outputs": [],
   "source": []
  }
 ],
 "metadata": {
  "kernelspec": {
   "display_name": "Python 3 (ipykernel)",
   "language": "python",
   "name": "python3"
  },
  "language_info": {
   "codemirror_mode": {
    "name": "ipython",
    "version": 3
   },
   "file_extension": ".py",
   "mimetype": "text/x-python",
   "name": "python",
   "nbconvert_exporter": "python",
   "pygments_lexer": "ipython3",
   "version": "3.12.7"
  }
 },
 "nbformat": 4,
 "nbformat_minor": 5
}
