{
 "cells": [
  {
   "cell_type": "markdown",
   "id": "24d838b1-ee93-42b3-a860-ba139b92d75c",
   "metadata": {},
   "source": [
    "# Assignment 1\n",
    "**Wat is Data Science?**\n",
    "\n",
    "---"
   ]
  },
  {
   "attachments": {},
   "cell_type": "markdown",
   "id": "ce8183b9-92d3-4921-9fff-c5be8de696bf",
   "metadata": {},
   "source": [
    "- Data Science is het verzamelen en analyseren van gegevens om informatie en inzichten te krijgen. Het helpt bedrijven en organisaties om betere beslissingen te nemen.\n",
    "*Source: Chatgpt.*\n",
    "\n",
    "\n",
    "- Data Science is het automatisch analyseren van data met slimme technologie (zoals machine learning). Het helpt om nieuwe inzichten te krijgen en betere keuzes te maken op basis van data. Bijna elke organisatie kan het gebruiken.\n",
    "*Source: passionned.nl*\n"
   ]
  }
 ],
 "metadata": {
  "kernelspec": {
   "display_name": "Python 3 (ipykernel)",
   "language": "python",
   "name": "python3"
  },
  "language_info": {
   "codemirror_mode": {
    "name": "ipython",
    "version": 3
   },
   "file_extension": ".py",
   "mimetype": "text/x-python",
   "name": "python",
   "nbconvert_exporter": "python",
   "pygments_lexer": "ipython3",
   "version": "3.12.7"
  }
 },
 "nbformat": 4,
 "nbformat_minor": 5
}
